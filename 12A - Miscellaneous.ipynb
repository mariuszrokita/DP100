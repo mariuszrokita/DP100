{
 "cells": [
  {
   "cell_type": "markdown",
   "metadata": {},
   "source": [
    "# Question #143"
   ]
  },
  {
   "cell_type": "code",
   "execution_count": null,
   "metadata": {},
   "outputs": [],
   "source": [
    "import os\n",
    "\n",
    "training_folder = 'question-143-training'\n",
    "os.makedirs(training_folder, exist_ok=True)\n",
    "\n",
    "os.makedirs('question-143-dataset', exist_ok=True)"
   ]
  },
  {
   "cell_type": "markdown",
   "metadata": {},
   "source": [
    "### Create an artificial dataset"
   ]
  },
  {
   "cell_type": "code",
   "execution_count": null,
   "metadata": {},
   "outputs": [],
   "source": [
    "%%writefile question-143-dataset/file1.csv\n",
    "col1,col2,col3\n",
    "1,a,t6t\n",
    "2,b,u7u\n",
    "3,c,r8r\n",
    "4,d,s9s\n",
    "5,e,h4h"
   ]
  },
  {
   "cell_type": "code",
   "execution_count": null,
   "metadata": {},
   "outputs": [],
   "source": [
    "%%writefile question-143-dataset/file2.csv\n",
    "col1,col2,col3\n",
    "1,f,k6t\n",
    "2,g,f7u\n",
    "3,h,p8r\n",
    "4,i,f9s\n",
    "5,j,s4h"
   ]
  },
  {
   "cell_type": "markdown",
   "metadata": {},
   "source": [
    "### Register artificial dataset"
   ]
  },
  {
   "cell_type": "code",
   "execution_count": null,
   "metadata": {},
   "outputs": [],
   "source": [
    "import azureml.core\n",
    "from azureml.core import Dataset, Workspace\n",
    "\n",
    "# Load the workspace from the saved config file\n",
    "ws = Workspace.from_config()\n",
    "\n",
    "default_ds = ws.get_default_datastore()\n",
    "default_ds.upload_files(\n",
    "    files=[\n",
    "        os.path.join('question-143-dataset', 'file1.csv'), \n",
    "        os.path.join('question-143-dataset', 'file2.csv'), \n",
    "    ],\n",
    "    target_path='question-143-data/', # Put it in a folder path in the datastore\n",
    "    overwrite=True, # Replace existing files of the same name\n",
    "    show_progress=True\n",
    ")\n",
    "\n",
    "# Create a tabular dataset from the path on the datastore (this may take a short while)\n",
    "tab_data_set = Dataset.Tabular.from_delimited_files(path=(default_ds, 'question-143-data/*.csv'))\n",
    "\n",
    "# Register dataset\n",
    "tab_data_set = tab_data_set.register(\n",
    "    workspace=ws, \n",
    "    name='csv_training',\n",
    "    description='csv training - question 143',\n",
    "    tags = {'format':'CSV'},\n",
    "    create_new_version=True\n",
    ")"
   ]
  },
  {
   "cell_type": "markdown",
   "metadata": {},
   "source": [
    "## Carry on with the question"
   ]
  },
  {
   "cell_type": "code",
   "execution_count": null,
   "metadata": {},
   "outputs": [],
   "source": [
    "%%writefile $training_folder/train.py\n",
    "import os\n",
    "import argparse\n",
    "import pandas as pd\n",
    "\n",
    "from sklearn.model_selection import train_test_split\n",
    "from sklearn.linear_model import LogisticRegression\n",
    "from azureml.core import Run\n",
    "\n",
    "run = Run.get_context()\n",
    "parser = argparse.ArgumentParser()\n",
    "parser.add_argument('--data-folder', type=str, dest='data_folder', help='data reference')\n",
    "args = parser.parse_args()\n",
    "\n",
    "data_folder = args.data_folder\n",
    "csv_files = os.listdir(data_folder)\n",
    "training_data = pd.concat((pd.read_csv(os.path.join(data_folder, csv_file)) for csv_file in csv_files))\n",
    "\n",
    "# Code to split the training data and train a logistic regression model\n",
    "# ..."
   ]
  },
  {
   "cell_type": "code",
   "execution_count": null,
   "metadata": {},
   "outputs": [],
   "source": [
    "from azureml.core import Workspace, Datastore, Experiment\n",
    "from azureml.train.sklearn import SKLearn\n",
    "\n",
    "ws = Workspace.from_config()\n",
    "exp = Experiment(workspace=ws, name='question-143')\n",
    "#ds = Datastore.get(ws, datastore_name='training_data')\n",
    "data_ref = default_ds.path('question-143-data')\n",
    "\n",
    "#\n",
    "script_params = {\n",
    "    #'--data-folder': data_ref.as_mount()\n",
    "    '--data-folder': data_ref.as_download(path_on_compute='csv_files')\n",
    "}\n",
    "estimator = SKLearn(\n",
    "    source_directory='./question-143-training',\n",
    "    script_params=script_params,\n",
    "    compute_target='local',\n",
    "    entry_script='train.py'\n",
    ")\n",
    "\n",
    "#\n",
    "run = exp.submit(config=estimator)\n",
    "run.wait_for_completion(show_output=True)"
   ]
  }
 ],
 "metadata": {
  "kernelspec": {
   "display_name": "Python 3",
   "language": "python",
   "name": "python3"
  },
  "language_info": {
   "codemirror_mode": {
    "name": "ipython",
    "version": 3
   },
   "file_extension": ".py",
   "mimetype": "text/x-python",
   "name": "python",
   "nbconvert_exporter": "python",
   "pygments_lexer": "ipython3",
   "version": "3.7.9"
  }
 },
 "nbformat": 4,
 "nbformat_minor": 4
}
