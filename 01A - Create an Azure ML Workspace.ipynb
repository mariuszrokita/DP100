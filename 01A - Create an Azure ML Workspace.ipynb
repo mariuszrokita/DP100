{
 "cells": [
  {
   "cell_type": "code",
   "execution_count": null,
   "metadata": {
    "ExecuteTime": {
     "end_time": "2020-09-24T05:19:05.293128Z",
     "start_time": "2020-09-24T05:19:03.540752Z"
    }
   },
   "outputs": [],
   "source": [
    "# make sure we are using a correct virtual environment\n",
    "! conda env list"
   ]
  },
  {
   "cell_type": "markdown",
   "metadata": {},
   "source": [
    "# Use Azure CLI to create Azure ML workspace"
   ]
  },
  {
   "cell_type": "code",
   "execution_count": null,
   "metadata": {
    "ExecuteTime": {
     "end_time": "2020-09-24T04:47:58.339446Z",
     "start_time": "2020-09-24T04:47:50.835761Z"
    }
   },
   "outputs": [],
   "source": [
    "# authenticate to your Azure subscription\n",
    "! az login"
   ]
  },
  {
   "cell_type": "code",
   "execution_count": null,
   "metadata": {
    "ExecuteTime": {
     "end_time": "2020-09-22T19:39:14.849501Z",
     "start_time": "2020-09-22T19:39:13.038568Z"
    }
   },
   "outputs": [],
   "source": [
    "# install the machine learning extension for CLI\n",
    "! az extension add -n azure-cli-ml"
   ]
  },
  {
   "cell_type": "code",
   "execution_count": null,
   "metadata": {
    "ExecuteTime": {
     "end_time": "2020-09-22T19:54:39.262078Z",
     "start_time": "2020-09-22T19:54:36.713434Z"
    }
   },
   "outputs": [],
   "source": [
    "# create a resource group\n",
    "! az group create --name \"dp100prep-rg\" --location \"westeurope\""
   ]
  },
  {
   "cell_type": "code",
   "execution_count": null,
   "metadata": {
    "ExecuteTime": {
     "end_time": "2020-09-22T19:56:51.093197Z",
     "start_time": "2020-09-22T19:54:41.288980Z"
    }
   },
   "outputs": [],
   "source": [
    "# create an Azure ML workspace\n",
    "! az ml workspace create -w amlworkspace -g dp100prep-rg"
   ]
  },
  {
   "cell_type": "code",
   "execution_count": null,
   "metadata": {
    "ExecuteTime": {
     "end_time": "2020-09-22T19:57:42.816150Z",
     "start_time": "2020-09-22T19:57:40.715894Z"
    }
   },
   "outputs": [],
   "source": [
    "# list workspaces\n",
    "! az ml workspace list"
   ]
  },
  {
   "cell_type": "markdown",
   "metadata": {},
   "source": [
    "# Use an Azure Resource Manager template"
   ]
  },
  {
   "cell_type": "code",
   "execution_count": null,
   "metadata": {
    "ExecuteTime": {
     "end_time": "2020-09-24T05:19:16.804244Z",
     "start_time": "2020-09-24T05:19:09.594986Z"
    }
   },
   "outputs": [],
   "source": [
    "# authenticate to your Azure subscription\n",
    "! az login"
   ]
  },
  {
   "cell_type": "code",
   "execution_count": null,
   "metadata": {
    "ExecuteTime": {
     "end_time": "2020-09-24T05:20:03.196949Z",
     "start_time": "2020-09-24T05:20:01.313705Z"
    }
   },
   "outputs": [],
   "source": [
    "# create a resource group\n",
    "! az group create --name \"dp100prep-rg\" --location \"westeurope\""
   ]
  },
  {
   "cell_type": "code",
   "execution_count": null,
   "metadata": {
    "ExecuteTime": {
     "end_time": "2020-09-24T05:21:14.771661Z",
     "start_time": "2020-09-24T05:20:08.409045Z"
    }
   },
   "outputs": [],
   "source": [
    "! az deployment group create \\\n",
    "    --name \"exampledeployment\" \\\n",
    "    --resource-group \"dp100prep-rg\" \\\n",
    "    --template-uri \"https://raw.githubusercontent.com/Azure/azure-quickstart-templates/master/201-machine-learning-advanced/azuredeploy.json\" \\\n",
    "    --parameters \\\n",
    "        workspaceName=\"exampleworkspace\" \\\n",
    "        location=\"westeurope\""
   ]
  },
  {
   "cell_type": "markdown",
   "metadata": {},
   "source": [
    "# Create using Python SDK"
   ]
  },
  {
   "cell_type": "code",
   "execution_count": null,
   "metadata": {
    "ExecuteTime": {
     "end_time": "2020-09-22T19:36:31.654086Z",
     "start_time": "2020-09-22T19:36:31.650945Z"
    }
   },
   "outputs": [],
   "source": [
    "import azureml.core\n",
    "from azureml.core import Workspace\n",
    "\n",
    "ws = Workspace.create(\n",
    "    name='myworkspace',\n",
    "    subscription_id='<azure-subscription-id>',\n",
    "    resource_group='myresourcegroup',\n",
    "    create_resource_group=True,\n",
    "    location='eastus2'\n",
    ")"
   ]
  }
 ],
 "metadata": {
  "kernelspec": {
   "display_name": "Python 3",
   "language": "python",
   "name": "python3"
  },
  "language_info": {
   "codemirror_mode": {
    "name": "ipython",
    "version": 3
   },
   "file_extension": ".py",
   "mimetype": "text/x-python",
   "name": "python",
   "nbconvert_exporter": "python",
   "pygments_lexer": "ipython3",
   "version": "3.7.9"
  },
  "toc": {
   "base_numbering": 1,
   "nav_menu": {},
   "number_sections": true,
   "sideBar": true,
   "skip_h1_title": false,
   "title_cell": "Table of Contents",
   "title_sidebar": "Contents",
   "toc_cell": false,
   "toc_position": {},
   "toc_section_display": true,
   "toc_window_display": false
  }
 },
 "nbformat": 4,
 "nbformat_minor": 2
}
