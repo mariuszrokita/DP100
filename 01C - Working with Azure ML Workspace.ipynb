{
 "cells": [
  {
   "cell_type": "markdown",
   "metadata": {},
   "source": [
    "# Working with Azure ML Workspace"
   ]
  },
  {
   "cell_type": "markdown",
   "metadata": {},
   "source": [
    "## Connect to your workspace"
   ]
  },
  {
   "cell_type": "code",
   "execution_count": null,
   "metadata": {},
   "outputs": [],
   "source": [
    "import azureml.core\n",
    "from azureml.core import Workspace\n",
    "from azureml.core.authentication import InteractiveLoginAuthentication\n",
    "\n",
    "# Load the workspace from the saved config file\n",
    "auth = InteractiveLoginAuthentication(tenant_id='<tenant_id>')\n",
    "ws = Workspace.from_config(path='.', auth=auth)\n",
    "print('Ready to use Azure ML {} to work with {}'.format(azureml.core.VERSION, ws.name))"
   ]
  },
  {
   "cell_type": "code",
   "execution_count": null,
   "metadata": {},
   "outputs": [],
   "source": [
    "# display Workspace details\n",
    "ws.get_details()"
   ]
  },
  {
   "cell_type": "markdown",
   "metadata": {},
   "source": [
    "## Use Keyvault to keep secrets in a secure place\n",
    "\n",
    "Use the Keyvault class to pass secrets to remote runs securely without exposing sensitive information in cleartext."
   ]
  },
  {
   "cell_type": "code",
   "execution_count": null,
   "metadata": {},
   "outputs": [],
   "source": [
    "keyvault = ws.get_default_keyvault()\n",
    "\n",
    "# list secrets\n",
    "keyvault.list_secrets()"
   ]
  },
  {
   "cell_type": "code",
   "execution_count": null,
   "metadata": {},
   "outputs": [],
   "source": [
    "import os, uuid\n",
    "\n",
    "local_secret = os.environ.get(\"LOCAL_SECRET\", default = str(uuid.uuid4()))\n",
    "keyvault.set_secret(name=\"secret-name\", value = local_secret)"
   ]
  },
  {
   "cell_type": "code",
   "execution_count": null,
   "metadata": {},
   "outputs": [],
   "source": [
    "# list secrets\n",
    "print(\"Secrets:\\n\", keyvault.list_secrets())\n",
    "\n",
    "# display\n",
    "print()\n",
    "for secret_name in keyvault.list_secrets():\n",
    "    # each secret name has a format: {name : \"secretName\"}\n",
    "    name = secret_name['name']\n",
    "    print(f\"Key: {name}, value: {keyvault.get_secret(name)}\")"
   ]
  }
 ],
 "metadata": {
  "kernelspec": {
   "display_name": "Python 3",
   "language": "python",
   "name": "python3"
  },
  "language_info": {
   "codemirror_mode": {
    "name": "ipython",
    "version": 3
   },
   "file_extension": ".py",
   "mimetype": "text/x-python",
   "name": "python",
   "nbconvert_exporter": "python",
   "pygments_lexer": "ipython3",
   "version": "3.7.9"
  }
 },
 "nbformat": 4,
 "nbformat_minor": 4
}
